{
 "cells": [
  {
   "cell_type": "code",
   "execution_count": 1,
   "id": "a79bcbcc-64ea-40bd-adf9-353f10bc50ad",
   "metadata": {},
   "outputs": [
    {
     "data": {
      "application/vnd.jupyter.widget-view+json": {
       "model_id": "9be812c26c5749249cae0cef47fce0c7",
       "version_major": 2,
       "version_minor": 0
      },
      "text/plain": [
       "MitoWidget(analysis_data_json='{\"analysisName\": \"id-nmghufevit\", \"analysisToReplay\": {\"analysisName\": \"id-gdpw…"
      ]
     },
     "execution_count": 1,
     "metadata": {},
     "output_type": "execute_result"
    }
   ],
   "source": [
    "import mitosheet\n",
    "mitosheet.sheet(analysis_to_replay=\"id-gdpwbugokp\")"
   ]
  },
  {
   "cell_type": "code",
   "execution_count": 2,
   "id": "70dd4d7f-55d2-4905-8303-e9b17d64102d",
   "metadata": {},
   "outputs": [
    {
     "name": "stderr",
     "output_type": "stream",
     "text": [
      "C:\\Users\\kurni\\AppData\\Local\\Temp\\ipykernel_8916\\909760065.py:24: FutureWarning: DataFrame.set_axis 'inplace' keyword is deprecated and will be removed in a future version. Use `obj = obj.set_axis(..., copy=False)` instead\n",
      "  pivot_table.set_axis([flatten_column_header(col) for col in pivot_table.keys()], axis=1, inplace=True)\n",
      "C:\\Users\\kurni\\AppData\\Local\\Temp\\ipykernel_8916\\909760065.py:34: FutureWarning: DataFrame.set_axis 'inplace' keyword is deprecated and will be removed in a future version. Use `obj = obj.set_axis(..., copy=False)` instead\n",
      "  pivot_table.set_axis([flatten_column_header(col) for col in pivot_table.keys()], axis=1, inplace=True)\n"
     ]
    }
   ],
   "source": [
    "from mitosheet import *; register_analysis(\"id-gdpwbugokp\");\n",
    "    \n",
    "# Imported Sheet1 from katalogdetail.xlsx\n",
    "import pandas as pd\n",
    "sheet_df_dictonary = pd.read_excel(r'katalogdetail.xlsx', engine='openpyxl', sheet_name=['Sheet1'], skiprows=0)\n",
    "Sheet1 = sheet_df_dictonary['Sheet1']\n",
    "\n",
    "# Renamed Sheet1 to KatalogDetail\n",
    "KatalogDetail = Sheet1\n",
    "\n",
    "# Filtered jenis_katalog\n",
    "KatalogDetail = KatalogDetail[KatalogDetail['jenis_katalog'].apply(lambda val: all(val != s for s in ['Sektoral', 'Nasional']))]\n",
    "\n",
    "# Filtered kd_klpd\n",
    "KatalogDetail = KatalogDetail[KatalogDetail['kd_klpd'].apply(lambda val: all(val != s for s in ['D552', 'D210', 'D209', 'D207', 'D206', 'D205', 'D204', 'D202', 'D201', 'D200', 'D199', 'D198']))]\n",
    "\n",
    "# Pivoted into KatalogDetail\n",
    "tmp_df = KatalogDetail[['nama_satker', 'no_paket']]\n",
    "pivot_table = tmp_df.pivot_table(\n",
    "    index=['nama_satker'],\n",
    "    values=['no_paket'],\n",
    "    aggfunc={'no_paket': ['count']}\n",
    ")\n",
    "pivot_table.set_axis([flatten_column_header(col) for col in pivot_table.keys()], axis=1, inplace=True)\n",
    "KatalogDetail_pivot = pivot_table.reset_index()\n",
    "\n",
    "# Pivoted into KatalogDetail\n",
    "tmp_df = KatalogDetail[['nama_satker', 'no_paket']]\n",
    "pivot_table = tmp_df.pivot_table(\n",
    "    index=['nama_satker', 'no_paket'],\n",
    "    values=['no_paket'],\n",
    "    aggfunc={'no_paket': [pd.Series.nunique]}\n",
    ")\n",
    "pivot_table.set_axis([flatten_column_header(col) for col in pivot_table.keys()], axis=1, inplace=True)\n",
    "KatalogDetail_pivot = pivot_table.reset_index()\n",
    "\n",
    "# Pivoted into KatalogDetail\n",
    "tmp_df = KatalogDetail[['nama_satker', 'no_paket']]\n",
    "pivot_table = tmp_df.pivot_table(\n",
    "    index=['nama_satker', 'no_paket'],\n",
    "    values=['no_paket'],\n",
    "    aggfunc={'no_paket': [pd.Series.nunique]}\n",
    ")\n",
    "pivot_table.set_axis([flatten_column_header(col) for col in pivot_table.keys()], axis=1, inplace=True)\n",
    "KatalogDetail_pivot = pivot_table.reset_index()\n"
   ]
  }
 ],
 "metadata": {
  "kernelspec": {
   "display_name": "Python 3 (ipykernel)",
   "language": "python",
   "name": "python3"
  },
  "language_info": {
   "codemirror_mode": {
    "name": "ipython",
    "version": 3
   },
   "file_extension": ".py",
   "mimetype": "text/x-python",
   "name": "python",
   "nbconvert_exporter": "python",
   "pygments_lexer": "ipython3",
   "version": "3.10.6"
  }
 },
 "nbformat": 4,
 "nbformat_minor": 5
}
