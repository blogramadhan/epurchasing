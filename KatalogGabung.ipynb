{
 "cells": [
  {
   "cell_type": "code",
   "execution_count": 3,
   "id": "d8ba9795-06c1-4d55-b4d7-d037efb988d4",
   "metadata": {},
   "outputs": [
    {
     "data": {
      "application/vnd.jupyter.widget-view+json": {
       "model_id": "4ae958f8ea2540d1a4edacb03f3f5d42",
       "version_major": 2,
       "version_minor": 0
      },
      "text/plain": [
       "MitoWidget(analysis_data_json='{\"analysisName\": \"id-amrsdhmvcc\", \"analysisToReplay\": {\"analysisName\": \"id-bplf…"
      ]
     },
     "execution_count": 3,
     "metadata": {},
     "output_type": "execute_result"
    }
   ],
   "source": [
    "import mitosheet\n",
    "mitosheet.sheet(analysis_to_replay=\"id-bplfpaysrv\")"
   ]
  },
  {
   "cell_type": "code",
   "execution_count": 4,
   "id": "e67f20f1-9843-4da6-a034-41edad8d7f39",
   "metadata": {},
   "outputs": [
    {
     "name": "stderr",
     "output_type": "stream",
     "text": [
      "C:\\Users\\krama\\AppData\\Local\\Temp\\ipykernel_9792\\3586903604.py:21: FutureWarning: DataFrame.set_axis 'inplace' keyword is deprecated and will be removed in a future version. Use `obj = obj.set_axis(..., copy=False)` instead\n",
      "  pivot_table.set_axis([flatten_column_header(col) for col in pivot_table.keys()], axis=1, inplace=True)\n",
      "C:\\Users\\krama\\AppData\\Local\\Temp\\ipykernel_9792\\3586903604.py:46: FutureWarning: DataFrame.set_axis 'inplace' keyword is deprecated and will be removed in a future version. Use `obj = obj.set_axis(..., copy=False)` instead\n",
      "  pivot_table.set_axis([flatten_column_header(col) for col in pivot_table.keys()], axis=1, inplace=True)\n",
      "C:\\Users\\krama\\AppData\\Local\\Temp\\ipykernel_9792\\3586903604.py:61: FutureWarning: DataFrame.set_axis 'inplace' keyword is deprecated and will be removed in a future version. Use `obj = obj.set_axis(..., copy=False)` instead\n",
      "  pivot_table.set_axis([flatten_column_header(col) for col in pivot_table.keys()], axis=1, inplace=True)\n"
     ]
    }
   ],
   "source": [
    "from mitosheet import *; register_analysis(\"id-bzztgustyk\");\n",
    "    \n",
    "# Imported Sheet1 from trxkatalog.xlsx\n",
    "import pandas as pd\n",
    "sheet_df_dictonary = pd.read_excel(r'trxkatalog.xlsx', engine='openpyxl', sheet_name=['Sheet1'], skiprows=0)\n",
    "Sheet1 = sheet_df_dictonary['Sheet1']\n",
    "\n",
    "# Renamed Sheet1 to KatalogGabung\n",
    "KatalogGabung = Sheet1\n",
    "\n",
    "# Pivoted into KatalogGabung\n",
    "KatalogGabung_pivot = pd.DataFrame(data={})\n",
    "\n",
    "# Pivoted into KatalogGabung\n",
    "tmp_df = KatalogGabung[['kd_klpd', 'total_harga']]\n",
    "pivot_table = tmp_df.pivot_table(\n",
    "    index=['kd_klpd'],\n",
    "    values=['total_harga'],\n",
    "    aggfunc={'total_harga': ['sum']}\n",
    ")\n",
    "pivot_table.set_axis([flatten_column_header(col) for col in pivot_table.keys()], axis=1, inplace=True)\n",
    "KatalogGabung_pivot = pivot_table.reset_index()\n",
    "\n",
    "# Imported Sheet1 from komoditasdetail.xlsx\n",
    "import pandas as pd\n",
    "sheet_df_dictonary = pd.read_excel(r'komoditasdetail.xlsx', engine='openpyxl', sheet_name=['Sheet1'], skiprows=0)\n",
    "Sheet1 = sheet_df_dictonary['Sheet1']\n",
    "\n",
    "# Renamed Sheet1 to KomoditasDetail\n",
    "KomoditasDetail = Sheet1\n",
    "\n",
    "# Merged KatalogGabung and KomoditasDetail into df3\n",
    "temp_df = KomoditasDetail.drop_duplicates(subset=['kd_komoditas']) # Remove duplicates so lookup merge only returns first match\n",
    "df3 = KatalogGabung.merge(temp_df, left_on=['kd_komoditas'], right_on=['kd_komoditas'], how='left', suffixes=['_KatalogGabung', '_KomoditasDetail'])\n",
    "\n",
    "# Renamed df3 to KatalogDetail\n",
    "KatalogDetail = df3\n",
    "\n",
    "# Pivoted into KatalogDetail\n",
    "tmp_df = KatalogDetail[['kd_klpd', 'total_harga']]\n",
    "pivot_table = tmp_df.pivot_table(\n",
    "    index=['kd_klpd'],\n",
    "    values=['total_harga'],\n",
    "    aggfunc={'total_harga': ['sum']}\n",
    ")\n",
    "pivot_table.set_axis([flatten_column_header(col) for col in pivot_table.keys()], axis=1, inplace=True)\n",
    "KatalogDetail_pivot = pivot_table.reset_index()\n",
    "\n",
    "# Imported Sheet1 from prodkatalog.xlsx\n",
    "import pandas as pd\n",
    "sheet_df_dictonary = pd.read_excel(r'prodkatalog.xlsx', engine='openpyxl', sheet_name=['Sheet1'], skiprows=0)\n",
    "Sheet1 = sheet_df_dictonary['Sheet1']\n",
    "\n",
    "# Pivoted into Sheet1\n",
    "tmp_df = Sheet1[['nama_produk', 'nama_klpd']]\n",
    "pivot_table = tmp_df.pivot_table(\n",
    "    index=['nama_klpd'],\n",
    "    values=['nama_produk'],\n",
    "    aggfunc={'nama_produk': ['count']}\n",
    ")\n",
    "pivot_table.set_axis([flatten_column_header(col) for col in pivot_table.keys()], axis=1, inplace=True)\n",
    "Sheet1_pivot = pivot_table.reset_index()\n",
    "\n",
    "# Renamed Sheet1 to ProdukKatalog\n",
    "ProdukKatalog = Sheet1\n",
    "\n",
    "# Filtered jenis_katalog\n",
    "KatalogDetail = KatalogDetail[KatalogDetail['jenis_katalog'].apply(lambda val: all(val != s for s in ['Sektoral', 'Nasional']))]\n"
   ]
  }
 ],
 "metadata": {
  "kernelspec": {
   "display_name": "Python 3 (ipykernel)",
   "language": "python",
   "name": "python3"
  },
  "language_info": {
   "codemirror_mode": {
    "name": "ipython",
    "version": 3
   },
   "file_extension": ".py",
   "mimetype": "text/x-python",
   "name": "python",
   "nbconvert_exporter": "python",
   "pygments_lexer": "ipython3",
   "version": "3.10.6"
  }
 },
 "nbformat": 4,
 "nbformat_minor": 5
}
