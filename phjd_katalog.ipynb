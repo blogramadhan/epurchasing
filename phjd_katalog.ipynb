{
 "cells": [
  {
   "cell_type": "code",
   "execution_count": 1,
   "id": "48282c0c-8694-4502-96ac-3fecea3e0927",
   "metadata": {},
   "outputs": [
    {
     "data": {
      "application/vnd.jupyter.widget-view+json": {
       "model_id": "92343ea08ea243f4909d54acab74d399",
       "version_major": 2,
       "version_minor": 0
      },
      "text/plain": [
       "MitoWidget(analysis_data_json='{\"analysisName\": \"id-rzfgaozvhg\", \"analysisToReplay\": null, \"code\": [], \"stepSu…"
      ]
     },
     "execution_count": 1,
     "metadata": {},
     "output_type": "execute_result"
    }
   ],
   "source": [
    "import mitosheet\n",
    "mitosheet.sheet(analysis_to_replay=\"id-rzfgaozvhg\")"
   ]
  },
  {
   "cell_type": "code",
   "execution_count": null,
   "id": "3ea86799-020e-441e-a17e-93632f492cfe",
   "metadata": {},
   "outputs": [],
   "source": [
    "from mitosheet import *; register_analysis(\"id-rzfgaozvhg\");\n",
    "    \n",
    "# Imported Sheet1 from trxkatalog.xlsx\n",
    "import pandas as pd\n",
    "sheet_df_dictonary = pd.read_excel(r'trxkatalog.xlsx', engine='openpyxl', sheet_name=['Sheet1'], skiprows=0)\n",
    "Sheet1 = sheet_df_dictonary['Sheet1']\n",
    "\n",
    "# Renamed Sheet1 to TrxKatalog\n",
    "TrxKatalog = Sheet1\n",
    "\n",
    "# Imported Sheet1 from prodkatalog.xlsx\n",
    "import pandas as pd\n",
    "sheet_df_dictonary = pd.read_excel(r'prodkatalog.xlsx', engine='openpyxl', sheet_name=['Sheet1'], skiprows=0)\n",
    "Sheet1 = sheet_df_dictonary['Sheet1']\n",
    "\n",
    "# Renamed Sheet1 to ProdKatalog\n",
    "ProdKatalog = Sheet1\n",
    "\n",
    "# Imported Sheet1 from komoditasdetail.xlsx\n",
    "import pandas as pd\n",
    "sheet_df_dictonary = pd.read_excel(r'komoditasdetail.xlsx', engine='openpyxl', sheet_name=['Sheet1'], skiprows=0)\n",
    "Sheet1 = sheet_df_dictonary['Sheet1']\n",
    "\n",
    "# Renamed Sheet1 to KomDetail\n",
    "KomDetail = Sheet1\n",
    "\n",
    "# Merged TrxKatalog and KomDetail into df4\n",
    "df4 = TrxKatalog.merge(KomDetail, left_on=['kd_komoditas'], right_on=['kd_komoditas'], how='left', suffixes=['_TrxKatalog', '_KomDetail'])\n",
    "\n",
    "# Renamed df4 to TrxKatalogDetail\n",
    "TrxKatalogDetail = df4\n",
    "\n",
    "# Merged TrxKatalog and KomDetail into df4\n",
    "df4 = TrxKatalog.merge(KomDetail, left_on=['kd_komoditas'], right_on=['kd_komoditas'], how='left', suffixes=['_TrxKatalog', '_KomDetail'])\n",
    "\n",
    "# Merged TrxKatalog and KomDetail into df4\n",
    "df4 = TrxKatalog.merge(KomDetail, left_on=['kd_komoditas'], right_on=['kd_komoditas'], how='left', suffixes=['_TrxKatalog', '_KomDetail'])\n",
    "\n",
    "# Renamed df4 to TrxKatalogDetail\n",
    "TrxKatalogDetail = df4\n",
    "\n",
    "# Filtered jenis_katalog\n",
    "TrxKatalogDetail = TrxKatalogDetail[TrxKatalogDetail['jenis_katalog'].apply(lambda val: all(val != s for s in ['Sektoral', 'Nasional']))]\n",
    "\n",
    "# Pivoted into TrxKatalogDetail\n",
    "tmp_df = TrxKatalogDetail[['total_harga', 'kd_klpd']]\n",
    "pivot_table = tmp_df.pivot_table(\n",
    "    index=['kd_klpd'],\n",
    "    values=['total_harga'],\n",
    "    aggfunc={'total_harga': ['sum']}\n",
    ")\n",
    "pivot_table.set_axis([flatten_column_header(col) for col in pivot_table.keys()], axis=1, inplace=True)\n",
    "TrxKatalogDetail_pivot = pivot_table.reset_index()\n",
    "\n",
    "# Pivoted into ProdKatalog\n",
    "ProdKatalog_pivot = pd.DataFrame(data={})\n",
    "\n",
    "# Pivoted into ProdKatalog\n",
    "tmp_df = ProdKatalog[['kd_klpd', 'nama_penyedia']]\n",
    "pivot_table = tmp_df.pivot_table(\n",
    "    index=['kd_klpd'],\n",
    "    values=['nama_penyedia'],\n",
    "    aggfunc={'nama_penyedia': ['count']}\n",
    ")\n",
    "pivot_table.set_axis([flatten_column_header(col) for col in pivot_table.keys()], axis=1, inplace=True)\n",
    "ProdKatalog_pivot = pivot_table.reset_index()\n",
    "\n",
    "# Pivoted into ProdKatalog\n",
    "tmp_df = ProdKatalog[['kd_klpd', 'nama_produk', 'nama_penyedia']]\n",
    "pivot_table = tmp_df.pivot_table(\n",
    "    index=['kd_klpd', 'nama_penyedia'],\n",
    "    values=['nama_produk'],\n",
    "    aggfunc={'nama_produk': ['count']}\n",
    ")\n",
    "pivot_table.set_axis([flatten_column_header(col) for col in pivot_table.keys()], axis=1, inplace=True)\n",
    "ProdKatalog_pivot = pivot_table.reset_index()\n",
    "\n",
    "# Filtered kd_klpd\n",
    "ProdKatalog_pivot = ProdKatalog_pivot[ProdKatalog_pivot['kd_klpd'].apply(lambda val: all(val != s for s in ['D552', 'D211', 'D210', 'D209', 'D208', 'D207', 'D205', 'D206', 'D204', 'D202', 'D201', 'D200', 'D199', 'D198']))]\n",
    "\n",
    "# Pivoted into ProdKatalog\n",
    "ProdKatalog_pivot = pd.DataFrame(data={})\n",
    "\n",
    "# Pivoted into ProdKatalog\n",
    "tmp_df = ProdKatalog[['nama_penyedia']]\n",
    "pivot_table = tmp_df.pivot_table(\n",
    "    index=['nama_penyedia'],\n",
    "    values=['nama_penyedia'],\n",
    "    aggfunc={'nama_penyedia': [pd.Series.nunique]}\n",
    ")\n",
    "pivot_table.set_axis([flatten_column_header(col) for col in pivot_table.keys()], axis=1, inplace=True)\n",
    "ProdKatalog_pivot = pivot_table.reset_index()\n"
   ]
  }
 ],
 "metadata": {
  "kernelspec": {
   "display_name": "Python 3 (ipykernel)",
   "language": "python",
   "name": "python3"
  },
  "language_info": {
   "codemirror_mode": {
    "name": "ipython",
    "version": 3
   },
   "file_extension": ".py",
   "mimetype": "text/x-python",
   "name": "python",
   "nbconvert_exporter": "python",
   "pygments_lexer": "ipython3",
   "version": "3.9.13"
  }
 },
 "nbformat": 4,
 "nbformat_minor": 5
}
